{
 "cells": [
  {
   "cell_type": "code",
   "execution_count": 1,
   "id": "67166fd0",
   "metadata": {},
   "outputs": [
    {
     "name": "stdout",
     "output_type": "stream",
     "text": [
      "   ID_produit Nom_produit  Quantite_vendue  Prix_unitaire  Date_vente\n",
      "0           1     Chemise             10.0           25.0  2022-01-05\n",
      "1           2    Pantalon              8.0           35.0  2022-01-06\n",
      "2           3  Chaussures              NaN           50.0  2022-01-07\n",
      "3           4     Cravate             12.0           15.0  2022-01-08\n",
      "4           5        Robe             15.0           45.0  2022-01-09\n",
      "<class 'pandas.core.frame.DataFrame'>\n",
      "RangeIndex: 5266 entries, 0 to 5265\n",
      "Data columns (total 5 columns):\n",
      " #   Column           Non-Null Count  Dtype  \n",
      "---  ------           --------------  -----  \n",
      " 0   ID_produit       5266 non-null   int64  \n",
      " 1   Nom_produit      5255 non-null   object \n",
      " 2   Quantite_vendue  2594 non-null   float64\n",
      " 3   Prix_unitaire    2697 non-null   float64\n",
      " 4   Date_vente       5266 non-null   object \n",
      "dtypes: float64(2), int64(1), object(2)\n",
      "memory usage: 205.8+ KB\n",
      "None\n",
      "         ID_produit Nom_produit  Quantite_vendue  Prix_unitaire    Date_vente\n",
      "count   5266.000000        5255      2594.000000    2697.000000          5266\n",
      "unique          NaN           8              NaN            NaN          1335\n",
      "top             NaN    Pantalon              NaN            NaN  invalid_date\n",
      "freq            NaN         709              NaN            NaN          1679\n",
      "mean      50.700152         NaN        10.811295      54.122903           NaN\n",
      "std       29.088180         NaN         5.596689      25.663199           NaN\n",
      "min        1.000000         NaN         0.000000      10.040000           NaN\n",
      "25%       26.000000         NaN         5.900000      31.830000           NaN\n",
      "50%       51.000000         NaN        10.900000      52.970000           NaN\n",
      "75%       76.000000         NaN        15.700000      75.920000           NaN\n",
      "max      100.000000         NaN        25.000000      99.930000           NaN\n",
      "(5266, 5)\n"
     ]
    }
   ],
   "source": [
    "# Charger les données et analyser\n",
    "\n",
    "import pandas as pd\n",
    "\n",
    "# Chargement des données\n",
    "df = pd.read_csv('./jeu_donnees_etl_5000_lignes.csv')\n",
    "\n",
    "# Affichage des premières lignes\n",
    "print(df.head()) # montre les 5 premières lignes pour visualiser les colonnes.\n",
    "\n",
    "# Informations générales\n",
    "print(df.info()) # affiche les types de données, nombre de valeurs nulles, etc.\n",
    "\n",
    "# Statistiques descriptives\n",
    "print(df.describe(include='all')) # donne les statistiques (moyenne, min, max, etc.), utile pour détecter les valeurs aberrantes.\n",
    "print(df.shape) # pour voir combien de lignes et de colonnes \n"
   ]
  },
  {
   "cell_type": "code",
   "execution_count": 2,
   "id": "ff97b34d",
   "metadata": {},
   "outputs": [
    {
     "name": "stdout",
     "output_type": "stream",
     "text": [
      "(4965, 5)\n"
     ]
    }
   ],
   "source": [
    "# Suppression des doublons\n",
    "df.drop_duplicates(inplace=True) # supprime les lignes qui sont exactement identiques \n",
    "# et applique la modification directement.\n",
    "print(df.shape) # pour voir combien de lignes qui on etait supprimer car c'est des doublons "
   ]
  },
  {
   "cell_type": "code",
   "execution_count": 3,
   "id": "e7389f8a",
   "metadata": {},
   "outputs": [
    {
     "name": "stdout",
     "output_type": "stream",
     "text": [
      "Le nombre de NaN dans la colonne 'Quantite_vendue' est : 0\n"
     ]
    }
   ],
   "source": [
    "\n",
    "# Supprimer les lignes où Quantite_vendue est manquante (optionnel mais recommandé)\n",
    "df = df[df['Quantite_vendue'].notna()]\n",
    "\n",
    "# Convertir la colonne Quantite_vendue de type entier car on peut pas vendre la moitié de quelque chose \n",
    "df['Quantite_vendue'] = df['Quantite_vendue'].astype(int)\n",
    "\n",
    "print(\"Le nombre de NaN dans la colonne 'Quantite_vendue' est : {}\".format(df['Quantite_vendue'].isna().sum()))\n",
    "\n"
   ]
  },
  {
   "cell_type": "code",
   "execution_count": 4,
   "id": "a751c939",
   "metadata": {},
   "outputs": [],
   "source": [
    "# 4. Gestion des valeurs aberrantes\n",
    "def winsorize_series(series):\n",
    "    q1 = series.quantile(0.25)\n",
    "    q3 = series.quantile(0.75)\n",
    "    iqr = q3 - q1\n",
    "    lower = q1 - 1.5 * iqr\n",
    "    upper = q3 + 1.5 * iqr\n",
    "    return series.clip(lower=lower, upper=upper)\n",
    "\n",
    "df['Quantite_vendue'] = winsorize_series(df['Quantite_vendue'])\n",
    "df['Prix_unitaire'] = winsorize_series(df['Prix_unitaire'])"
   ]
  },
  {
   "cell_type": "code",
   "execution_count": 5,
   "id": "cad86a29",
   "metadata": {},
   "outputs": [
    {
     "data": {
      "text/plain": [
       "{'doublons_restants': np.int64(6),\n",
       " 'valeurs_manquantes': ID_produit            0\n",
       " Nom_produit          10\n",
       " Quantite_vendue       0\n",
       " Prix_unitaire      1195\n",
       " Date_vente            0\n",
       " dtype: int64,\n",
       " 'quantite_negative': np.int64(0),\n",
       " 'prix_negative': np.int64(0)}"
      ]
     },
     "execution_count": 5,
     "metadata": {},
     "output_type": "execute_result"
    }
   ],
   "source": [
    "# 5. Validation des données\n",
    "{\n",
    "    \"doublons_restants\": df.duplicated().sum(),\n",
    "    \"valeurs_manquantes\": df.isna().sum(),\n",
    "    \"quantite_negative\": (df['Quantite_vendue'] < 0).sum(),\n",
    "    \"prix_negative\": (df['Prix_unitaire'] < 0).sum()\n",
    "}\n"
   ]
  },
  {
   "cell_type": "code",
   "execution_count": 6,
   "id": "63127d40",
   "metadata": {},
   "outputs": [
    {
     "data": {
      "text/plain": [
       "{'doublons_restants': np.int64(0),\n",
       " 'valeurs_manquantes': ID_produit         0\n",
       " Nom_produit        0\n",
       " Quantite_vendue    0\n",
       " Prix_unitaire      0\n",
       " Date_vente         0\n",
       " dtype: int64,\n",
       " 'quantite_negative': np.int64(0),\n",
       " 'prix_negative': np.int64(0)}"
      ]
     },
     "execution_count": 6,
     "metadata": {},
     "output_type": "execute_result"
    }
   ],
   "source": [
    "df.dropna(subset=['Nom_produit', 'Prix_unitaire'], inplace=True)\n",
    "{\n",
    "    \"doublons_restants\": df.duplicated().sum(),\n",
    "    \"valeurs_manquantes\": df.isna().sum(),\n",
    "    \"quantite_negative\": (df['Quantite_vendue'] < 0).sum(),\n",
    "    \"prix_negative\": (df['Prix_unitaire'] < 0).sum()\n",
    "}"
   ]
  },
  {
   "cell_type": "code",
   "execution_count": 7,
   "id": "9ad14462",
   "metadata": {},
   "outputs": [],
   "source": [
    "# 6. Gestion des erreurs (try/except)\n",
    "try:\n",
    "    df['Valeur_totale'] = df['Quantite_vendue'] * df['Prix_unitaire']\n",
    "except Exception as e:\n",
    "    logging.error(f\"Erreur lors du calcul de la colonne 'Valeur_totale': {e}\")\n"
   ]
  },
  {
   "cell_type": "code",
   "execution_count": 8,
   "id": "8f3dbc6c",
   "metadata": {},
   "outputs": [],
   "source": [
    "# 7. Transformations\n",
    "# Ajout d’une colonne calculée :\n",
    "df['Montant_total'] = df['Quantite_vendue'] * df['Prix_unitaire']\n"
   ]
  },
  {
   "cell_type": "code",
   "execution_count": 9,
   "id": "d9ffea1b",
   "metadata": {},
   "outputs": [],
   "source": [
    "# 7. Transformations\n",
    "# Normalisation Min-Max\n",
    "montant_min = df['Montant_total'].min()\n",
    "montant_max = df['Montant_total'].max()\n",
    "\n",
    "df['Montant_total_normalise'] = (df['Montant_total'] - montant_min) / (montant_max - montant_min)\n"
   ]
  },
  {
   "cell_type": "code",
   "execution_count": 10,
   "id": "8e92efe9",
   "metadata": {},
   "outputs": [],
   "source": [
    "# 7. Transformations\n",
    "# Agrégation des quantités vendues par produit\n",
    "df_agg = df.groupby(\"Nom_produit\")[\"Valeur_totale\"].sum().reset_index().rename(columns={\"Valeur_totale\": \"Vente_totale\"})\n"
   ]
  },
  {
   "cell_type": "code",
   "execution_count": 11,
   "id": "586aab3d",
   "metadata": {},
   "outputs": [
    {
     "data": {
      "text/plain": [
       "{'Traitements effectués': ['Suppression des doublons',\n",
       "  'Imputation des valeurs manquantes avec la médiane',\n",
       "  'Winsorisation des valeurs aberrantes',\n",
       "  \"Ajout de la colonne 'Valeur_totale'\",\n",
       "  'Agrégation des ventes par produit'],\n",
       " 'Validation finale': {'doublons_restants': np.int64(0),\n",
       "  'valeurs_manquantes': ID_produit                 0\n",
       "  Nom_produit                0\n",
       "  Quantite_vendue            0\n",
       "  Prix_unitaire              0\n",
       "  Date_vente                 0\n",
       "  Valeur_totale              0\n",
       "  Montant_total              0\n",
       "  Montant_total_normalise    0\n",
       "  dtype: int64,\n",
       "  'quantite_negative': np.int64(0),\n",
       "  'prix_negative': np.int64(0)}}"
      ]
     },
     "execution_count": 11,
     "metadata": {},
     "output_type": "execute_result"
    }
   ],
   "source": [
    "#  8. Documentation résumée\n",
    "{\n",
    "    \"Traitements effectués\": [\n",
    "        \"Suppression des doublons\",\n",
    "        \"Imputation des valeurs manquantes avec la médiane\",\n",
    "        \"Winsorisation des valeurs aberrantes\",\n",
    "        \"Ajout de la colonne 'Valeur_totale'\",\n",
    "        \"Agrégation des ventes par produit\"\n",
    "    ],\n",
    "    \"Validation finale\": {\n",
    "        \"doublons_restants\": df.duplicated().sum(),\n",
    "        \"valeurs_manquantes\": df.isna().sum(),\n",
    "        \"quantite_negative\": (df['Quantite_vendue'] < 0).sum(),\n",
    "        \"prix_negative\": (df['Prix_unitaire'] < 0).sum()\n",
    "    }\n",
    "    \n",
    "}\n"
   ]
  },
  {
   "cell_type": "code",
   "execution_count": 12,
   "id": "68194238",
   "metadata": {},
   "outputs": [
    {
     "name": "stdout",
     "output_type": "stream",
     "text": [
      "   ID_produit Nom_produit  Quantite_vendue  Prix_unitaire  Date_vente  \\\n",
      "0           1     Chemise               10           25.0  2022-01-05   \n",
      "1           2    Pantalon                8           35.0  2022-01-06   \n",
      "3           4     Cravate               12           15.0  2022-01-08   \n",
      "4           5        Robe               15           45.0  2022-01-09   \n",
      "6           7    Pantalon                8           35.0  2022-01-06   \n",
      "\n",
      "   Valeur_totale  Montant_total  Montant_total_normalise  \n",
      "0          250.0          250.0                 0.132627  \n",
      "1          280.0          280.0                 0.148542  \n",
      "3          180.0          180.0                 0.095491  \n",
      "4          675.0          675.0                 0.358092  \n",
      "6          280.0          280.0                 0.148542  \n"
     ]
    }
   ],
   "source": [
    "print(df.head())"
   ]
  },
  {
   "cell_type": "code",
   "execution_count": 13,
   "id": "d90f752c",
   "metadata": {},
   "outputs": [
    {
     "name": "stdout",
     "output_type": "stream",
     "text": [
      "Fichier sauvegardé : sauvegardes/donnees_nettoyees_20250523_150936.csv\n"
     ]
    }
   ],
   "source": [
    "import os\n",
    "from datetime import datetime\n",
    "\n",
    "# Créer un dossier de sauvegarde s'il n'existe pas\n",
    "os.makedirs(\"sauvegardes\", exist_ok=True)\n",
    "\n",
    "# Générer un nom de fichier avec la date et l'heure actuelles\n",
    "timestamp = datetime.now().strftime(\"%Y%m%d_%H%M%S\")\n",
    "nom_fichier = f\"sauvegardes/donnees_nettoyees_{timestamp}.csv\"\n",
    "\n",
    "# Sauvegarde du DataFrame dans un fichier CSV\n",
    "df.to_csv(nom_fichier, index=False)\n",
    "\n",
    "print(f\"Fichier sauvegardé : {nom_fichier}\")\n"
   ]
  }
 ],
 "metadata": {
  "kernelspec": {
   "display_name": "Python 3",
   "language": "python",
   "name": "python3"
  },
  "language_info": {
   "codemirror_mode": {
    "name": "ipython",
    "version": 3
   },
   "file_extension": ".py",
   "mimetype": "text/x-python",
   "name": "python",
   "nbconvert_exporter": "python",
   "pygments_lexer": "ipython3",
   "version": "3.11.0"
  }
 },
 "nbformat": 4,
 "nbformat_minor": 5
}
